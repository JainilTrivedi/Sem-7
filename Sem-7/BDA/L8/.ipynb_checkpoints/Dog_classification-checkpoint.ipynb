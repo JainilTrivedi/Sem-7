{
 "cells": [
  {
   "cell_type": "code",
   "execution_count": 2,
   "id": "05b9143a",
   "metadata": {},
   "outputs": [],
   "source": [
    "#using CNN classifing DOG image into husky or retriever\n",
    "import numpy as np\n",
    "import cv2 \n",
    "import os\n",
    "import random\n",
    "import matplotlib.pyplot as plt\n",
    "import time"
   ]
  },
  {
   "cell_type": "code",
   "execution_count": 3,
   "id": "26c48aa6",
   "metadata": {},
   "outputs": [],
   "source": [
    "DIRECTORY = r'C:\\Users\\Jainil\\Desktop\\Jainil\\College\\Sem-7\\BDA\\L8'\n",
    "CATEGORIES = ['GoldenRetriever','Husky']\n",
    "IMG_SIZE = 150"
   ]
  },
  {
   "cell_type": "code",
   "execution_count": 4,
   "id": "96904051",
   "metadata": {},
   "outputs": [],
   "source": [
    "#convert image into array and save it in a list\n",
    "\n",
    "data = []\n",
    "\n",
    "for category in CATEGORIES:\n",
    "    folder = os.path.join(DIRECTORY,category)\n",
    "    label = CATEGORIES.index(category)\n",
    "    #print(folder)\n",
    "    for img in os.listdir(folder):       # listdir will list all files present in folder\n",
    "        img_path = os.path.join(folder,img)\n",
    "        img_arr = cv2.imread(img_path)   #read image and convert into array\n",
    "        img_arr = cv2.resize(img_arr,(IMG_SIZE,IMG_SIZE))\n",
    "        \n",
    "        data.append([img_arr,label])\n",
    "        "
   ]
  },
  {
   "cell_type": "code",
   "execution_count": 5,
   "id": "62d3c102",
   "metadata": {},
   "outputs": [],
   "source": [
    "# len(data)   "
   ]
  },
  {
   "cell_type": "code",
   "execution_count": 6,
   "id": "95096430",
   "metadata": {},
   "outputs": [],
   "source": [
    "# data[12]"
   ]
  },
  {
   "cell_type": "code",
   "execution_count": 7,
   "id": "463bbc87",
   "metadata": {},
   "outputs": [],
   "source": [
    "random.shuffle(data)"
   ]
  },
  {
   "cell_type": "code",
   "execution_count": 8,
   "id": "6fdc1b2f",
   "metadata": {},
   "outputs": [],
   "source": [
    "X = []\n",
    "y = []\n",
    "\n",
    "for features,labels in data:\n",
    "    X.append(features)\n",
    "    y.append(labels)"
   ]
  },
  {
   "cell_type": "code",
   "execution_count": 9,
   "id": "ec25b213",
   "metadata": {},
   "outputs": [],
   "source": [
    "X = np.array(X)\n",
    "y = np.array(y)"
   ]
  },
  {
   "cell_type": "code",
   "execution_count": 10,
   "id": "760b4726",
   "metadata": {},
   "outputs": [
    {
     "name": "stdout",
     "output_type": "stream",
     "text": [
      "30\n",
      "30\n"
     ]
    }
   ],
   "source": [
    "print(str(len(X))+'\\n'+str(len(y)))"
   ]
  },
  {
   "cell_type": "code",
   "execution_count": 11,
   "id": "3decceb6",
   "metadata": {},
   "outputs": [
    {
     "data": {
      "text/plain": [
       "array([1, 1, 0, 0, 1, 1, 0, 1, 0, 0, 0, 0, 1, 0, 0, 1, 1, 1, 1, 1, 1, 0,\n",
       "       0, 0, 1, 1, 0, 0, 1, 0])"
      ]
     },
     "execution_count": 11,
     "metadata": {},
     "output_type": "execute_result"
    }
   ],
   "source": [
    "y"
   ]
  },
  {
   "cell_type": "code",
   "execution_count": 12,
   "id": "105167d0",
   "metadata": {},
   "outputs": [
    {
     "data": {
      "text/plain": [
       "(30, 150, 150, 3)"
      ]
     },
     "execution_count": 12,
     "metadata": {},
     "output_type": "execute_result"
    }
   ],
   "source": [
    "X = X/255\n",
    "# X\n",
    "\"\"\"\n",
    "    Lesser the values contained in the array representation \n",
    "    of the image easier the calculation\n",
    "\"\"\"\n",
    "X.shape"
   ]
  },
  {
   "cell_type": "code",
   "execution_count": 13,
   "id": "eb5bc3ff",
   "metadata": {},
   "outputs": [],
   "source": [
    "from keras.models import Sequential\n",
    "from keras.layers import Conv2D, MaxPool2D, Flatten, Dense\n",
    "from tensorflow.keras.callbacks import TensorBoard\n",
    "# Dense layers are just regular layers"
   ]
  },
  {
   "cell_type": "code",
   "execution_count": 14,
   "id": "fcca96fa",
   "metadata": {},
   "outputs": [],
   "source": [
    "NAME = f'reeriever-husky-{int(time.time())}'\n",
    "tensorboard = TensorBoard(log_dir = f'logs\\\\{NAME}\\\\')"
   ]
  },
  {
   "cell_type": "code",
   "execution_count": 36,
   "id": "6c9e3549",
   "metadata": {},
   "outputs": [],
   "source": [
    "model = Sequential()\n",
    "\n",
    "#HIDDEN LAYER\n",
    "model.add(Conv2D(64,(3,3),activation='relu'))      \n",
    "\"\"\"\n",
    "number of features to be detected or convolution layers,\n",
    "feature detector size( matrix )\n",
    "activation function (softmax,sigmoid,relu) -> generally relu works best in this case\n",
    "\"\"\"\n",
    "model.add(MaxPool2D((2,2)))\n",
    "\n",
    "model.add(Conv2D(64,(3,3),activation='relu'))   \n",
    "model.add(MaxPool2D((2,2)))\n",
    "\n",
    "model.add(Conv2D(64,(3,3),activation='relu'))   \n",
    "model.add(MaxPool2D((2,2)))\n",
    "\n",
    "#model.add(Conv2D(64,(3,3),activation='relu'))   \n",
    "#model.add(MaxPool2D((2,2)))\n",
    "\n",
    "model.add(Flatten())\n",
    "model.add(Dense(128,input_shape=X.shape[1:]))\n",
    "model.add(Dense(128))\n",
    "#128 neurons in hidden layer,shape of input image   \n",
    "\n",
    "\n",
    "#OUTPUT LAYER\n",
    "model.add(Dense(2,activation='softmax'))"
   ]
  },
  {
   "cell_type": "code",
   "execution_count": 37,
   "id": "7cc27be4",
   "metadata": {},
   "outputs": [
    {
     "name": "stdout",
     "output_type": "stream",
     "text": [
      "Epoch 1/10\n",
      "1/1 [==============================] - 1s 807ms/step - loss: 0.6964 - accuracy: 0.4815 - val_loss: 1.9853 - val_accuracy: 0.3333\n",
      "Epoch 2/10\n",
      "1/1 [==============================] - 0s 452ms/step - loss: 1.1967 - accuracy: 0.5185 - val_loss: 2.0241 - val_accuracy: 0.6667\n",
      "Epoch 3/10\n",
      "1/1 [==============================] - 0s 448ms/step - loss: 3.2073 - accuracy: 0.4815 - val_loss: 0.7942 - val_accuracy: 0.6667\n",
      "Epoch 4/10\n",
      "1/1 [==============================] - 0s 470ms/step - loss: 1.2458 - accuracy: 0.4815 - val_loss: 0.8804 - val_accuracy: 0.3333\n",
      "Epoch 5/10\n",
      "1/1 [==============================] - 0s 448ms/step - loss: 0.6368 - accuracy: 0.5556 - val_loss: 1.1348 - val_accuracy: 0.3333\n",
      "Epoch 6/10\n",
      "1/1 [==============================] - 0s 452ms/step - loss: 0.7546 - accuracy: 0.5185 - val_loss: 0.7860 - val_accuracy: 0.3333\n",
      "Epoch 7/10\n",
      "1/1 [==============================] - 0s 467ms/step - loss: 0.6307 - accuracy: 0.5556 - val_loss: 0.6085 - val_accuracy: 0.6667\n",
      "Epoch 8/10\n",
      "1/1 [==============================] - 0s 480ms/step - loss: 0.6450 - accuracy: 0.5185 - val_loss: 0.6001 - val_accuracy: 0.6667\n",
      "Epoch 9/10\n",
      "1/1 [==============================] - 0s 445ms/step - loss: 0.6526 - accuracy: 0.5185 - val_loss: 0.6641 - val_accuracy: 1.0000\n",
      "Epoch 10/10\n",
      "1/1 [==============================] - 0s 443ms/step - loss: 0.6120 - accuracy: 0.9630 - val_loss: 0.8263 - val_accuracy: 0.3333\n"
     ]
    },
    {
     "data": {
      "text/plain": [
       "<keras.callbacks.History at 0x14008339d60>"
      ]
     },
     "execution_count": 37,
     "metadata": {},
     "output_type": "execute_result"
    }
   ],
   "source": [
    "model.compile(optimizer='adam',loss='sparse_categorical_crossentropy',metrics=['accuracy'])\n",
    "\n",
    "#adam optimizer is the goto optimizer for most cases\n",
    "model.fit(X,y,epochs=10,validation_split=0.1,callbacks=tensorboard)"
   ]
  },
  {
   "cell_type": "markdown",
   "id": "376f308d",
   "metadata": {},
   "source": [
    "\n"
   ]
  },
  {
   "cell_type": "code",
   "execution_count": null,
   "id": "5e21b0a2",
   "metadata": {},
   "outputs": [],
   "source": []
  }
 ],
 "metadata": {
  "kernelspec": {
   "display_name": "Python 3 (ipykernel)",
   "language": "python",
   "name": "python3"
  },
  "language_info": {
   "codemirror_mode": {
    "name": "ipython",
    "version": 3
   },
   "file_extension": ".py",
   "mimetype": "text/x-python",
   "name": "python",
   "nbconvert_exporter": "python",
   "pygments_lexer": "ipython3",
   "version": "3.8.0"
  }
 },
 "nbformat": 4,
 "nbformat_minor": 5
}
